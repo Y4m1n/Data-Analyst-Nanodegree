{
 "cells": [
  {
   "cell_type": "markdown",
   "metadata": {
    "collapsed": true
   },
   "source": [
    "# OpenStreetMap Data Case Study OpenStreetMap数据案例"
   ]
  },
  {
   "cell_type": "markdown",
   "metadata": {},
   "source": [
    "## Map Area 地图选择"
   ]
  },
  {
   "cell_type": "markdown",
   "metadata": {},
   "source": [
    "Shenzhen, Guangdong, China.中国广东省深圳市\n",
    "·https://www.openstreetmap.org/relation/3464353#map=10/22.6330/114.1850\n",
    "·http://overpass-api.de/api/map?bbox=113.4874,22.2726,114.8827,22.9925"
   ]
  },
  {
   "cell_type": "markdown",
   "metadata": {},
   "source": [
    "## Overview 数据概况"
   ]
  },
  {
   "cell_type": "markdown",
   "metadata": {},
   "source": [
    "### Tags标签"
   ]
  },
  {
   "cell_type": "code",
   "execution_count": 2,
   "metadata": {
    "collapsed": false
   },
   "outputs": [
    {
     "name": "stdout",
     "output_type": "stream",
     "text": [
      "Tags:\n",
      "{'bounds': 1,\n",
      " 'member': 107125,\n",
      " 'meta': 1,\n",
      " 'nd': 1676361,\n",
      " 'node': 1433740,\n",
      " 'note': 1,\n",
      " 'osm': 1,\n",
      " 'relation': 5641,\n",
      " 'remark': 1,\n",
      " 'tag': 589363,\n",
      " 'way': 154979}\n"
     ]
    }
   ],
   "source": [
    "#迭代解析\n",
    "import xml.etree.cElementTree as ET\n",
    "import pprint\n",
    "\n",
    "f='/Users/apple/Downloads/shenzhen.osm'\n",
    "#查看所有标签\n",
    "tags = {}\n",
    "for ev,elem in ET.iterparse(f):\n",
    "    tag = elem.tag\n",
    "    if tag not in tags.keys():\n",
    "        tags[tag] = 1\n",
    "    else:\n",
    "        tags[tag]+=1\n",
    "print 'Tags:'\n",
    "pprint.pprint(tags)"
   ]
  },
  {
   "cell_type": "markdown",
   "metadata": {},
   "source": [
    "### Tag types标签类型"
   ]
  },
  {
   "cell_type": "code",
   "execution_count": 5,
   "metadata": {
    "collapsed": false
   },
   "outputs": [
    {
     "name": "stdout",
     "output_type": "stream",
     "text": [
      "{'lower': 436915, 'lower_colon': 144009, 'other': 8436, 'problemchars': 3}\n"
     ]
    }
   ],
   "source": [
    "import re\n",
    "lower = re.compile(r'^([a-z]|_)*$')\n",
    "lower_colon = re.compile(r'^([a-z]|_)*:([a-z]|_)*$')\n",
    "problemchars = re.compile(r'[=\\+/&<>;\\'\"\\?%#$@\\,\\. \\t\\r\\n]')\n",
    "\n",
    "\n",
    "def key_type(element, keys):\n",
    "    elem_key = 'other'\n",
    "    if element.tag == \"tag\":\n",
    "        k = element.get('k')\n",
    "        if lower.search(k):\n",
    "            elem_key = 'lower'\n",
    "        if lower_colon.search(k):\n",
    "            elem_key = 'lower_colon'\n",
    "        if problemchars.search(k):\n",
    "            elem_key = 'problemchars'\n",
    "\n",
    "        keys.setdefault(elem_key, 0)\n",
    "        keys[elem_key] += 1\n",
    "    return keys\n",
    "\n",
    "keys = {\"lower\": 0, \"lower_colon\": 0, \"problemchars\": 0, \"other\": 0}\n",
    "\n",
    "for _, element in ET.iterparse(f):\n",
    "    keys = key_type(element, keys)\n",
    "\n",
    "pprint.pprint(keys)\n",
    "\n"
   ]
  },
  {
   "cell_type": "markdown",
   "metadata": {},
   "source": [
    "### Contributors 贡献用户"
   ]
  },
  {
   "cell_type": "markdown",
   "metadata": {},
   "source": [
    "找出多少用户贡献过这个地图。"
   ]
  },
  {
   "cell_type": "code",
   "execution_count": 19,
   "metadata": {
    "collapsed": false
   },
   "outputs": [
    {
     "name": "stdout",
     "output_type": "stream",
     "text": [
      "1364 users contributed to the map data.\n"
     ]
    }
   ],
   "source": [
    "users=set()\n",
    "for _, element in ET.iterparse(f):\n",
    "    user_id=element.get('uid')\n",
    "    if user_id is not None:\n",
    "        users.add(user_id)\n",
    "\n",
    "print '{} users contributed to the map data.'.format(len(users))\n"
   ]
  }
 ],
 "metadata": {
  "anaconda-cloud": {},
  "kernelspec": {
   "display_name": "Python [Root]",
   "language": "python",
   "name": "Python [Root]"
  },
  "language_info": {
   "codemirror_mode": {
    "name": "ipython",
    "version": 2
   },
   "file_extension": ".py",
   "mimetype": "text/x-python",
   "name": "python",
   "nbconvert_exporter": "python",
   "pygments_lexer": "ipython2",
   "version": "2.7.12"
  }
 },
 "nbformat": 4,
 "nbformat_minor": 0
}
