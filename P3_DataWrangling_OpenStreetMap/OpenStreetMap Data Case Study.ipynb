{
 "cells": [
  {
   "cell_type": "markdown",
   "metadata": {
    "collapsed": true
   },
   "source": [
    "# OpenStreetMap Data Case Study OpenStreetMap数据案例"
   ]
  },
  {
   "cell_type": "markdown",
   "metadata": {},
   "source": [
    "## Map Area 地图选择"
   ]
  },
  {
   "cell_type": "markdown",
   "metadata": {},
   "source": [
    "Shenzhen, Guangdong, China.中国广东省深圳市\n",
    "·https://www.openstreetmap.org/relation/3464353#map=10/22.6330/114.1850\n",
    "·http://overpass-api.de/api/map?bbox=113.4874,22.2726,114.8827,22.9925"
   ]
  },
  {
   "cell_type": "markdown",
   "metadata": {},
   "source": [
    "## Overview 数据概况"
   ]
  },
  {
   "cell_type": "code",
   "execution_count": 2,
   "metadata": {
    "collapsed": false
   },
   "outputs": [
    {
     "name": "stdout",
     "output_type": "stream",
     "text": [
      "Tags:\n",
      "{'bounds': 1,\n",
      " 'member': 107125,\n",
      " 'meta': 1,\n",
      " 'nd': 1676361,\n",
      " 'node': 1433740,\n",
      " 'note': 1,\n",
      " 'osm': 1,\n",
      " 'relation': 5641,\n",
      " 'remark': 1,\n",
      " 'tag': 589363,\n",
      " 'way': 154979}\n"
     ]
    }
   ],
   "source": [
    "#迭代解析\n",
    "import xml.etree.cElementTree as ET\n",
    "import pprint\n",
    "\n",
    "f='/Users/apple/Downloads/shenzhen.osm'\n",
    "#查看所有标签\n",
    "tags = {}\n",
    "for ev,elem in ET.iterparse(f):\n",
    "    tag = elem.tag\n",
    "    if tag not in tags.keys():\n",
    "        tags[tag] = 1\n",
    "    else:\n",
    "        tags[tag]+=1\n",
    "print 'Tags:'\n",
    "pprint.pprint(tags)"
   ]
  },
  {
   "cell_type": "markdown",
   "metadata": {},
   "source": []
  }
 ],
 "metadata": {
  "anaconda-cloud": {},
  "kernelspec": {
   "display_name": "Python [Root]",
   "language": "python",
   "name": "Python [Root]"
  },
  "language_info": {
   "codemirror_mode": {
    "name": "ipython",
    "version": 2
   },
   "file_extension": ".py",
   "mimetype": "text/x-python",
   "name": "python",
   "nbconvert_exporter": "python",
   "pygments_lexer": "ipython2",
   "version": "2.7.12"
  }
 },
 "nbformat": 4,
 "nbformat_minor": 0
}
