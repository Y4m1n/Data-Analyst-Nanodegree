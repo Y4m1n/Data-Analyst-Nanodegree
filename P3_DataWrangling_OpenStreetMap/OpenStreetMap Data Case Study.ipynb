{
 "cells": [
  {
   "cell_type": "markdown",
   "metadata": {
    "collapsed": true
   },
   "source": [
    "# OpenStreetMap Data Case Study OpenStreetMap数据案例"
   ]
  },
  {
   "cell_type": "markdown",
   "metadata": {},
   "source": [
    "## Map Area 地图选择"
   ]
  },
  {
   "cell_type": "markdown",
   "metadata": {},
   "source": [
    "Shenzhen, Guangdong, China.中国广东省深圳市\n",
    "·https://www.openstreetmap.org/relation/3464353#map=10/22.6330/114.1850\n",
    "·http://overpass-api.de/api/map?bbox=113.4874,22.2726,114.8827,22.9925"
   ]
  },
  {
   "cell_type": "markdown",
   "metadata": {},
   "source": [
    "## Overview 数据概况"
   ]
  },
  {
   "cell_type": "markdown",
   "metadata": {},
   "source": [
    "### Tags标签"
   ]
  },
  {
   "cell_type": "code",
   "execution_count": 2,
   "metadata": {
    "collapsed": false
   },
   "outputs": [
    {
     "name": "stdout",
     "output_type": "stream",
     "text": [
      "Tags:\n",
      "{'bounds': 1,\n",
      " 'member': 107125,\n",
      " 'meta': 1,\n",
      " 'nd': 1676361,\n",
      " 'node': 1433740,\n",
      " 'note': 1,\n",
      " 'osm': 1,\n",
      " 'relation': 5641,\n",
      " 'remark': 1,\n",
      " 'tag': 589363,\n",
      " 'way': 154979}\n"
     ]
    }
   ],
   "source": [
    "#迭代解析\n",
    "import xml.etree.cElementTree as ET\n",
    "import pprint\n",
    "\n",
    "f='/Users/apple/Downloads/shenzhen.osm'\n",
    "#查看所有标签\n",
    "tags = {}\n",
    "for ev,elem in ET.iterparse(f):\n",
    "    tag = elem.tag\n",
    "    if tag not in tags.keys():\n",
    "        tags[tag] = 1\n",
    "    else:\n",
    "        tags[tag]+=1\n",
    "print 'Tags:'\n",
    "pprint.pprint(tags)"
   ]
  },
  {
   "cell_type": "markdown",
   "metadata": {},
   "source": [
    "### Tag types标签类型"
   ]
  },
  {
   "cell_type": "code",
   "execution_count": 22,
   "metadata": {
    "collapsed": false
   },
   "outputs": [
    {
     "name": "stdout",
     "output_type": "stream",
     "text": [
      "{'lower': 436915, 'lower_colon': 144009, 'other': 8436, 'problemchars': 3}\n"
     ]
    }
   ],
   "source": [
    "import re\n",
    "lower = re.compile(r'^([a-z]|_)*$')\n",
    "lower_colon = re.compile(r'^([a-z]|_)*:([a-z]|_)*$')\n",
    "problemchars = re.compile(r'[=\\+/&<>;\\'\"\\?%#$@\\,\\. \\t\\r\\n]')\n",
    "\n",
    "\n",
    "def key_type(element, keys):\n",
    "    elem_key = 'other'\n",
    "    if element.tag == \"tag\":\n",
    "        k = element.get('k')\n",
    "        if lower.search(k):\n",
    "            elem_key = 'lower'\n",
    "        if lower_colon.search(k):\n",
    "            elem_key = 'lower_colon'\n",
    "        if problemchars.search(k):\n",
    "            elem_key = 'problemchars'\n",
    "\n",
    "        keys.setdefault(elem_key, 0)\n",
    "        keys[elem_key] += 1\n",
    "    return keys\n",
    "\n",
    "keys = {\"lower\": 0, \"lower_colon\": 0, \"problemchars\": 0, \"other\": 0}\n",
    "\n",
    "for _, element in ET.iterparse(f):\n",
    "    keys = key_type(element, keys)\n",
    "\n",
    "pprint.pprint(keys)\n",
    "\n"
   ]
  },
  {
   "cell_type": "markdown",
   "metadata": {},
   "source": [
    "### Contributors 贡献用户"
   ]
  },
  {
   "cell_type": "markdown",
   "metadata": {},
   "source": [
    "找出多少用户贡献过这个地图。"
   ]
  },
  {
   "cell_type": "code",
   "execution_count": 19,
   "metadata": {
    "collapsed": false
   },
   "outputs": [
    {
     "name": "stdout",
     "output_type": "stream",
     "text": [
      "1364 users contributed to the map data.\n"
     ]
    }
   ],
   "source": [
    "users=set()\n",
    "for _, element in ET.iterparse(f):\n",
    "    user_id=element.get('uid')\n",
    "    if user_id is not None:\n",
    "        users.add(user_id)\n",
    "\n",
    "print '{} users contributed to the map data.'.format(len(users))\n"
   ]
  },
  {
   "cell_type": "markdown",
   "metadata": {},
   "source": [
    "## Audit审查"
   ]
  },
  {
   "cell_type": "markdown",
   "metadata": {},
   "source": [
    "### Audit the street name审查街道名"
   ]
  },
  {
   "cell_type": "markdown",
   "metadata": {},
   "source": [
    "看看有啥奇奇怪怪的，超出预期的名字。"
   ]
  },
  {
   "cell_type": "code",
   "execution_count": 23,
   "metadata": {
    "collapsed": false
   },
   "outputs": [
    {
     "name": "stdout",
     "output_type": "stream",
     "text": [
      "defaultdict(<type 'set'>, {u'Heights': set([u'\\u5927\\u57d4\\u516c\\u8def \\u2014 \\u6c99\\u7530\\u5dba\\u6bb5 Tai Po Road \\u2014 Sha Tin Heights']), u'Rd': set([u'\\u91d1\\u98ce\\u8def J\\u012bnf\\u0113ng Rd', u'\\u666f\\u7530\\u8def Jingtian Rd', u'\\u6bd4\\u4e9a\\u8fea\\u8def Biyadi Rd', 'Guihua Rd', u'\\u7f57\\u82b3\\u8def Luofang Rd', u'\\u5ef6\\u82b3\\u8def Yanfang Rd', u'\\u666f\\u7530\\u5317\\u8857 Jingtian N Rd', u'\\u7ecf\\u4e8c\\u8def Jinger Rd', 'Wanghai Rd', 'Gongye 7th Rd', 'Cheong Wan Rd', u'\\u65b0\\u79c0\\u8def Xinxiu Rd', u'\\u6e56\\u8d1d\\u8def Hubei Rd', '24 Tin Kwong Rd', u'\\u83b2\\u82b1\\u8def Lianhua Rd', '1 Stewart Rd', u'\\u9999\\u6885\\u8def Xiangmei Rd', u'\\u5e03\\u9f99\\u8def Bulong Rd', u'\\u4e2d\\u5c71\\u56ed\\u8def Zhongshanyuan Rd', 'Zhenghua Rd', u'\\u4e2d\\u5174\\u8def Zhongxing Rd', 'Taikoo Shing Rd', u'\\u666f\\u7530\\u897f\\u8def Jingtian W Rd', u'\\u52b1\\u8018\\u8def Liyun Rd', 'Hai yue Rd', u'\\u7ca4\\u5174\\u4e09\\u9053 Yuexing 3rd Rd', 'Gong ye 7th Rd', 'Houhaibin Rd', u'\\u4e1c\\u95e8\\u4e2d\\u8def Dongmen Middle Rd', u'\\u6587\\u9526\\u4e2d\\u8def Wenjin Middle Rd', 'Lize Rd', u'\\u6c99\\u6e7e\\u8def Shawan Rd', u'\\u76d0\\u7530\\u8def Yantian Rd', u'\\u6b23\\u56ed\\u8def Xinyuan Rd']), 'Station': set(['East Tsim Sha Tsui Station']), u'Branch': set([u'\\u864e\\u95e8\\u6e2f\\u652f\\u7ebf Humen Port Branch']), 'BLVD': set(['Shennan BLVD']), 'Smithfield': set(['Smithfield']), 'Wo': set(['Tai Po Road - Tai Wo']), '4': set(['Lane 4']), 'Path': set([u'\\u9752\\u83f1\\u5f91 Tsing Ling Path', 'Ping Fai Path', u'\\u91d1\\u9322\\u5f91 Kam Tsin Path', 'Hau Yuen Path', 'Shek Pai Tau Path', 'Hong Pak Path', 'Hiu Yuk Path', 'Kai Fat Path', u'\\u666f\\u5cf0\\u5f91 King Fung Path', 'Ying Choi Path', u'\\u6821\\u5712\\u5f91 Hau Yuen Path', 'Tsuen Hing Path', 'Tsing Chui Path', 'Wo Hong Path', 'Tramway Path', 'Ma Shing Path', 'Tsing Pak Path', u'\\u5b8f\\u767c\\u5f91 Wang Fat Path', u'\\u7063\\u666f\\u8857 Wan King Path', 'Rehab Path', 'Wai Yin Path', 'Chung Sing Path', 'Tsing Ling Path', u'\\u6a02\\u5712\\u5f91 Lok Yuen Path', 'Glee Path', 'Stadium Path', u'\\u6c99\\u5480\\u8857 Sha Tsui Path', 'Holy Cross Path', 'Tsing To Path', u'\\u8343\\u8208\\u5f91 Tsuen Hing Path', 'Li Po Lung Path', 'Kai Man Path', 'Battery Path', u'\\u6d77\\u6d6a\\u5f91 Hoi Long Path', 'Mount Davis Path', 'Lee Fat Path', u'\\u9752\\u65b0\\u5f91 Tsing San Path', 'Tsing Min Path', u'\\u5fb7\\u5927\\u5f91 Tak Tai Path']), u'Bazaar': set([u\"\\u6e23\\u7538\\u8857 Jardine's Bazaar\", \"Jardine's Bazaar\"]), 'Shui': set(['Tai Po Road - Ma Liu Shui']), u'Bay': set([u'\\u9752\\u5c71\\u516c\\u8def - \\u9752\\u5c71\\u7063\\u6bb5 Castle Peak Road - Castle Peak Bay', 'Castle Peak Road - Castle Peak Bay']), u'Quadrant': set([u'\\u5f8b\\u502b\\u8857 Rutland Quadrant']), u'OT215K\\u865f\\u92ea': set([u'\\u6d77\\u904b\\u5927\\u5ec8\\u4e8c\\u968eOT215K\\u865f\\u92ea']), '260': set(['260']), 'Soho': set(['Shelley Street, Soho']), 'Tau': set(['Castle Peak Road - Tsing Lung Tau', u'\\u9752\\u5c71\\u516c\\u8def \\u2013 \\u9752\\u9f8d\\u982d\\u6bb5 Castle Peak Road - Tsing Lung Tau', u'\\u9752\\u5c71\\u516c\\u8def - \\u6d32\\u982d\\u6bb5 Castle Peak Road - Chau Tau']), u'Chung': set([u'\\u9752\\u5c71\\u516c\\u8def - \\u8475\\u6d8c\\u6bb5 Castle Peak Road - Kwai Chung', 'Mai Wo Industrial Building, 90-98 Kwai Cheong Road, Kwai Chung']), 'Huizhou': set(['Tymphany Industrial Area Xin Lian Village, XinXu Town HuiYang District, Huizhou']), 'Fong': set(['Siu Cheung Fong']), 'Kong': set(['88 Tai Kok Tsui Rd, Tai Kok Tsui, Hong Kong']), u'1\\u6a13115-120\\u865f\\u92ea': set([u'\\u65b0\\u6587\\u83ef\\u4e2d\\u5fc31\\u6a13115-120\\u865f\\u92ea']), u'Broadway': set(['Broadway', u'\\u767e\\u8001\\u532f\\u8857 Broadway']), u'Tseng': set([u'\\u9752\\u5c71\\u516c\\u8def \\u2013 \\u6df1\\u4e95\\u6bb5 Castle Peak Road - Sham Tseng', 'Castle Peak Road - Sham Tseng']), 'zi': set(['Tai zi']), 'District': set(['Xili Town, Nanshan                  District', 'Guanlan Longhua New District']), u'599': set([u'\\u897f\\u6c99\\u8def Sai Sha Road No. 599']), u'West': set(['Yen Chow Street West', 'Catering Road West', u'\\u5eb7\\u6a02\\u897f\\u8def Hong Lok Road West', 'Austin Road West', \"Queen's Road West\", u'\\u592a\\u5b50\\u9053\\u897f Prince Edward Road West', 'Prince Edward Road West', 'Queens Road West', 'Wang Yip Street West', u'\\u5e72\\u8afe\\u9053\\u897f Connaught Road West', 'Connaught Road West', u'\\u5b8f\\u696d\\u897f\\u8857 Wang Yip Street West', u\"\\u7687\\u540e\\u5927\\u9053\\u897f Queen's Road West\", u'\\u5fb7\\u8f14\\u9053\\u897f Des Voeux Road West', 'Healthy Street West', u'\\u5805\\u62ff\\u9053\\u897f Canal Road West', 'Des Voeux Road West', u'\\u67ef\\u58eb\\u7538\\u9053\\u897f Austin Road West', 'Hing Wah Street West']), 'Long': set([u'\\u9752\\u5c71\\u516c\\u8def - \\u5143\\u6717\\u6bb5 Castle Peak Road - Yuen Long', 'Castle Peak Road - Yuen Long']), 'street': set(['mee lun street\\n']), u'78A': set([u'\\u571f\\u74dc\\u7063\\u905378A']), 'Glenealy': set(['Glenealy']), 'East': set(['Fung Yau Street East', u'\\u9db4\\u5712\\u6771\\u8857 Hok Yuen Street East', u'\\u5eb7\\u6a02\\u6771\\u8def Hong Lok Road East', u'\\u5c4f\\u5510\\u6771\\u8857 Ping Tong Street East', 'Wang Yip Street East', 'Sharp Street East', u'\\u5927\\u738b\\u6771\\u8857 Tai Wong Street East', u'\\u5805\\u62ff\\u9053\\u6771 Canal Road East', 'Tai Wong Street East', 'Healthy Street East', 'Ping Ting Road East', 'Prince Edward Road East', 'Expo Drive East', 'Fu Mei Street East', u'\\u9999\\u5c71\\u4e1c\\u8857 Xiangshan Rd East', \"Queen's Road East\", u'\\u5b8f\\u696d\\u6771\\u8857 Wang Yip Street East', 'Shau Kei Wan Main Street East', u'\\u822a\\u5929\\u57ce\\u6771\\u8def Sky City Road East', 'Canal Road East', u\"\\u7687\\u540e\\u5927\\u9053\\u6771 Queen's Road East\", u'\\u9cf3\\u6538\\u6771\\u8857 Fung Yau Street East', 'Kiu Cheong Road East']), 'Rise': set([\"King's Park Rise\", u\"\\u4eac\\u58eb\\u67cf\\u9053 King's Park Rise\"]), 'Park': set(['Hong Kong Park']), '3': set(['Pier 3']), u'A\\u533a': set([u'\\u798f\\u4e2d\\u8def\\u5e02\\u6c11\\u4e2d\\u5fc3A\\u533a']), u'Strand': set(['Bonham Strand', u'\\u6587\\u54b8\\u6771\\u8857 Bonham Strand']), 'Town': set(['New Praya, Kennedy Town', 'Praya, Kennedy Town']), 'Central': set(['Des Voeux Road Central', u'\\u822a\\u81b3\\u4e2d\\u8def Catering Road Central', u\"\\u7687\\u540e\\u5927\\u9053\\u4e2d Queen's Road Central\", 'Connaught Road Central', \"Queen's Road Central\", 'Healthy Street Central', u'\\u5fb7\\u8f14\\u9053\\u4e2d Des Voeux Road Central', u'\\u5e72\\u8afe\\u9053\\u4e2d Connaught Road Central']), 'Plaza': set(['Block A, DB Plaza']), 'Mall': set(['Mount Sterling Mall']), u'Circuit': set([u'\\u7f6e\\u798f\\u570d Chi Fuk Circuit', 'Yuen Shun Circuit', u'\\u7f8e\\u79be\\u570d Mei Wo Circuit', 'Kin Fung Circuit', u'\\u6cb3\\u8208\\u8857 Ho Hing Circuit', 'Kwai Shing Circuit', 'Ho Hing Circuit', u'\\u5609\\u862d\\u570d Granville Circuit', u'\\u9752\\u694a\\u8857 Tsing Yeung Circuit', 'Tsing Hoi Circuit', 'Yan Oi Tong Circuit', 'Tsuen King Circuit', u'\\u8475\\u76db\\u570d Kwai Shing Circuit', u'\\u8343\\u666f\\u570d Tsuen King Circuit', 'Chi Fuk Circuit', u'\\u65b0\\u5e73\\u8857 San Ping Circuit', 'Tsing Yeung Circuit', u'\\u5efa\\u8c50\\u8857 Kin Fung Circuit', u'\\u6e90\\u9806\\u570d Yuen Shun Circuit']), u'Ave': set([u'\\u5317\\u73af\\u5927\\u9053 North Ring Ave']), 'Leng': set(['Tai Kei Leng']), u'14\\u865f\\u65b0\\u6587\\u83ef\\u4e2d\\u5fc3\\u5546\\u5834\\u5730\\u4e0b21B\\u865f\\u92ea': set([u'\\u79d1\\u5b78\\u9928\\u905314\\u865f\\u65b0\\u6587\\u83ef\\u4e2d\\u5fc3\\u5546\\u5834\\u5730\\u4e0b21B\\u865f\\u92ea']), u'1\\u6a13116\\u5e97': set([u'\\u5fb7\\u5b89\\u88577\\u865f \\u9ec3\\u57d4\\u82b1\\u57128\\u671f \\u9ec3\\u57d4\\u7f8e\\u98df\\u574a1\\u6a13116\\u5e97']), 'Reservoir': set(['Family Walk, Ho Pui Reservoir']), 'Circuit\\\\': set(['Kwai Shing Circuit\\\\']), 'Chai': set(['230 Wan Chai Road, Wan Chai']), u'20\\u865f\\u822a\\u5929\\u57ce\\u9ad8\\u723e\\u592b\\u7403\\u5834': set([u'\\u8d64\\u9c72\\u89d2\\u9999\\u6e2f\\u570b\\u969b\\u6a5f\\u5834\\u822a\\u5929\\u57ce\\u6771\\u8def20\\u865f\\u822a\\u5929\\u57ce\\u9ad8\\u723e\\u592b\\u7403\\u5834']), u'104\\u4e61\\u9053': set([u'104\\u4e61\\u9053']), u'road': set([u'\\u798f\\u534e\\u8def Fuhua road', u'\\u6c11\\u7530\\u8def Mintian road']), u'Row': set([u'\\u7dec\\u7538\\u81fa Minden Row', 'Minden Row']), 'Wan': set([u'\\u9752\\u5c71\\u516c\\u8def - \\u8343\\u7063\\u6bb5 Castle Peak Road - Tsuen Wan', 'Cattle Depot Artist Village, 63 Ma Tau Kok Road, To Kwa Wan', 'Castle Peak Road - Tsuen Wan']), 'Wai': set(['Kat Hing Wai']), 'St.': set(['Finance St.']), u'3\\u671f\\u767e\\u5bf6\\u574a\\u5730\\u4e0bG27\\u865f\\u92ea': set([u'\\u9ec3\\u57d4\\u65b0\\u5929\\u57303\\u671f\\u767e\\u5bf6\\u574a\\u5730\\u4e0bG27\\u865f\\u92ea']), 'Two': set(['Siena Drive Two']), u'1\\u865f': set([u'\\u91d1\\u9e21\\u8def1\\u865f']), u'524\\u865f\\u50d1\\u6c5f\\u5927\\u5ec8\\u5730\\u8216': set([u'\\u5f4c\\u6566\\u9053 524\\u865f\\u50d1\\u6c5f\\u5927\\u5ec8\\u5730\\u8216']), 'S.': set(['Gaoxin S.']), u'Street\\u200e': set([u'Wang Lung Street\\u200e']), 'Shan': set(['Castle Peak Road - Ping Shan']), 'North': set(['Sai Cheung Street North', 'Po Lam Road North', u'\\u6f06\\u54b8\\u9053\\u5317 Chatham Road North', u'\\u6a5f\\u5229\\u58eb\\u5317\\u8def Gillies Avenue North', 'Fung Yau Street North', 'Town Park Road North', 'Eastern Street North', 'Chatham Road North', u'\\u516c\\u5712\\u5317\\u8def Town Park Road North', u'\\u9cf3\\u6538\\u5317\\u8857 Fung Yau Street North']), 'Hui': set(['Castle Peak Road - San Hui']), 'Queensway': set([u'\\u91d1\\u9418\\u9053 Queensway', 'Queensway']), '518000': set(['1002 Huaqiang N Rd, HuaQiang Bei, Futian Qu, Shenzhen Shi, Guangdong Sheng, China, 518000']), u'Tung': set([u'\\u9752\\u5c71\\u516c\\u8def - \\u53e4\\u6d1e\\u6bb5 Castle Peak Road - Kwu Tung']), u'1\\u6a13': set([u'\\u5c6f\\u9580\\u5927\\u8208\\u6751\\u7b2c\\u4e8c\\u671f\\u5546\\u58341\\u6a13']), 'Tsai': set(['Tai Po Road - Yuen Chau Tsai']), 'St': set(['Hei Yuen St', u'\\u666f\\u7530\\u5317\\u4e94\\u8857 Jingtian North 5th St', 'Yan Hing St', u'\\u666f\\u7530\\u4e1c\\u4e00\\u8857 Jingtian E 1st St', u'\\u666f\\u7530\\u5317\\u4e09\\u8857 Jingtian North 3rd St', u'\\u4ed9\\u6e56\\u8def Xianhu St', \"d'Aguilar St\", u'\\u666f\\u7530\\u5317\\u4e00\\u8857 Jingtian North 1st St', u'\\u666f\\u7530\\u5317\\u516d\\u8857 Jingtian North 6th St', u'\\u666f\\u7530\\u5317\\u4e03\\u8857 Jingtian North 7th St', 'Fu Shin St', u'\\u666f\\u7530\\u5317\\u4e8c\\u8857 Jingtian North 2nd St']), u'2\\u671f\\u8cfc\\u7269\\u5546\\u5834\\u5730\\u4e0b': set([u'\\u5c6f\\u9580\\u5927\\u8208\\u82b1\\u57122\\u671f\\u8cfc\\u7269\\u5546\\u5834\\u5730\\u4e0b']), 'Tong': set(['Ko Tong']), 'House': set(['Mody House']), 'DaDao': set(['NanHai DaDao']), 'Twisk': set(['108 Route Twisk', 'Route Twisk']), 'Close': set([u'\\u7f6e\\u69ae\\u5f91 Chi Wing Close', 'Kai Chi Close']), 'City': set(['Block C, Sunshine City']), u'522\\u865f\\u91d1\\u9f8d\\u5546\\u696d\\u5927\\u53a6\\u5730\\u4e0b': set([u'\\u4e5d\\u9f8d\\u5f4c\\u6566\\u9053 522\\u865f\\u91d1\\u9f8d\\u5546\\u696d\\u5927\\u53a6\\u5730\\u4e0b']), 'Ln': set(['Yan Wo Ln']), 'Tin': set([u'\\u9752\\u5c71\\u516c\\u8def - \\u65b0\\u7530\\u6bb5 Castle Peak Road - San Tin', 'Tai Po Road - Sha Tin']), 'Lu': set(['XiHuan Lu', 'Hongbao Lu', 'Hua Fa Bei Lu', u'\\u6843\\u56ed\\u8def Taoyuan Lu', u'\\u6c99\\u6cb3\\u897f\\u8def ShaHe Xi Lu', 'Shenyan Lu']), 'kamtin': set(['kamtin']), 'Highway': set([u\"\\u897f\\u8ca2\\u516c\\u8def Hiram's Highway\", u'\\u5e7f\\u6df1\\u516c\\u8def Guangzhou-Shenzhen Highway', 'Tsing Sha Highway', \"Hiram's Highway\"]), 'Lam': set([u'\\u200e\\u9752\\u5c71\\u516c\\u8def\\u2013\\u5927\\u6b16\\u6bb5 Castle Peak Road - Tai Lam', 'Castle Peak Road - Tai Lam']), u'38-40\\u865f': set([u'\\u6f22\\u53e3\\u905338-40\\u865f']), 'Tsuen': set(['Wong Chuk Shan San Tsuen']), u'Dadao': set([u'\\u5357\\u5c71\\u5927\\u9053 Nanshan Dadao']), u'7\\u9053': set([u'\\u9ad8\\u65b0\\u79d1\\u6280\\u5712\\u9ad8\\u65b0\\u53577\\u9053']), u'Kau': set(['Tai Po Road - Tai Po Kau', u'\\u5927\\u57d4\\u516c\\u8def - \\u5927\\u57d4\\u6ed8\\u6bb5 Tai Po Road - Tai Po Kau', 'Castle Peak Road - Ting Kau', u'\\u9752\\u5c71\\u516c\\u8def \\u2013 \\u6c40\\u4e5d\\u6bb5 Castle Peak Road - Ting Kau']), u'Chianti': set([u'\\u5c1a\\u5824 Chianti']), u'Crescent': set([u'\\u6c60\\u65c1\\u8def Pond Crescent', u'\\u5eb7\\u6a02\\u5712\\u5e02\\u4e2d\\u5fc3\\u5f91 Hong Lok Yuen Town Centre Crescent', 'Wai Tsui Crescent', u'\\u96c5\\u606f\\u58eb\\u9053 Essex Crescent', u'\\u591a\\u5be6\\u8857 Dorset Crescent', u'\\u5409\\u7965\\u8857 Kat Cheung Crescent', \"Jardine's Crescent\", u'\\u8475\\u8c50\\u8857 Kwai Fung Crescent', 'Greig Crescent']), u'42A\\u5730\\u6bb5': set([u'\\u7a57\\u79be\\u82d142A\\u5730\\u6bb5']), u'6A\\u5730\\u4e0b': set([u'\\u5c16\\u6c99\\u5480\\u91d1\\u99ac\\u502b\\u90536A\\u5730\\u4e0b']), u'Av': set([u'\\u5742\\u96ea\\u5c97\\u5927\\u9053 B\\u01cenxu\\u011b G\\u01ceng Av']), u'220\\u865f': set([u'\\u632f\\u5b89\\u897f\\u8def220\\u865f']), 'Gardens': set(['Prosperous Gardens']), u'South': set(['Container Port Road South', 'Chatham Road South', 'Sai Yeung Choi Street South', u'\\u5b8f\\u696d\\u5357\\u8857 Wang Yip Street South', u'\\u9cf3\\u6538\\u5357\\u8857 Fung Yau Street South', 'Wang Yip Street South', 'Fung Yau Street South', 'Town Park Road South', u'\\u897f\\u6d0b\\u83dc\\u5357\\u8857 Sai Yeung Choi Street South', 'Po Lam Road South', u'\\u6f06\\u54b8\\u9053\\u5357 Chatham Road South', 'Gillies Avenue South', u'\\u6a5f\\u5229\\u58eb\\u5357\\u8def Gillies Avenue South', u'\\u5c4f\\u5510\\u5357\\u8857 Ping Tong Street South']), 'Shatin': set(['No. 51, Tsuen Nam Road, Tai Wai, Shatin']), 'Estate': set(['Cheung Shan Estate', 'Tai Wo Estate', 'Shek Wai Kok Estate']), 'One': set(['Siena Drive One']), u'Au': set([u'\\u6c99\\u982d\\u89d2\\u516c\\u8def - \\u77f3\\u6d8c\\u51f9\\u6bb5 Sha Tau Kok Road - Shek Chung Au']), u'Terrace': set([u'\\u5bf6\\u8c50\\u53f0 Po Fung Terrace', 'Kai Yuen Terrace', 'Moreton Terrace', 'Dragon Terrace', u'\\u64fa\\u82b1\\u8857 Lyndhurst Terrace', 'Sai Wan Terrace', 'Ying Wa Terrace']), 'Kowloon': set(['Salisbury Road, Kowloon', '503 Nathan Road, Yau Ma Tei, Kowloon', 'Shop 2, G/F., Arts Mansion, Nos. 46,48, 50,52,54,56,58 Arthur Street, Nos. 4 & 6 Man Ming Lane, Kowloon']), 'Village': set(['Tin Liu New Village']), 'Tangjia': set(['Jin Tang road, Tangjia']), u'106\\u4fa7': set([u'\\u5cad\\u5357\\u8def106\\u4fa7'])})\n"
     ]
    }
   ],
   "source": [
    "from collections import defaultdict\n",
    "street_type_re = re.compile(r'\\b\\S+\\.?$', re.IGNORECASE)\n",
    "\n",
    "expected = [\"Street\", \"Avenue\", \"Boulevard\", \"Drive\", \"Court\", \"Place\", \"Square\", \"Lane\", \"Road\",\n",
    "            \"Trail\", \"Parkway\", \"Commons\",\"Path\",\"Circuit\"]\n",
    "\n",
    "def audit_street_type(street_types, street_name):\n",
    "    m = street_type_re.search(street_name)\n",
    "    if m:\n",
    "        street_type = m.group()\n",
    "        if street_type not in expected:\n",
    "            street_types[street_type].add(street_name)\n",
    "\n",
    "\n",
    "def is_street_name(elem):\n",
    "    return (elem.attrib['k'] == \"addr:street\")\n",
    "\n",
    "\n",
    "osm_file = open(f, \"r\")\n",
    "street_types = defaultdict(set)\n",
    "for event, elem in ET.iterparse(osm_file, events=(\"start\",)):\n",
    "    if elem.tag == \"node\" or elem.tag == \"way\":\n",
    "        for tag in elem.iter(\"tag\"):\n",
    "            if is_street_name(tag):\n",
    "                audit_street_type(street_types, tag.attrib['v'])\n",
    "\n",
    "pprint.pprint(street_types)\n",
    "#pprint为啥打不漂亮了？\n",
    "\n"
   ]
  },
  {
   "cell_type": "markdown",
   "metadata": {},
   "source": [
    "观察得，很多简写，Rd-Road, St-Street;还有一些用汉语拼音代替英语如Dadao-Avenue."
   ]
  }
 ],
 "metadata": {
  "anaconda-cloud": {},
  "kernelspec": {
   "display_name": "Python [Root]",
   "language": "python",
   "name": "Python [Root]"
  },
  "language_info": {
   "codemirror_mode": {
    "name": "ipython",
    "version": 2
   },
   "file_extension": ".py",
   "mimetype": "text/x-python",
   "name": "python",
   "nbconvert_exporter": "python",
   "pygments_lexer": "ipython2",
   "version": "2.7.12"
  }
 },
 "nbformat": 4,
 "nbformat_minor": 0
}
