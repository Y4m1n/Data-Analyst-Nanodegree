{
 "cells": [
  {
   "cell_type": "markdown",
   "metadata": {
    "collapsed": true
   },
   "source": [
    "# OpenStreetMap Data Case Study OpenStreetMap数据案例"
   ]
  },
  {
   "cell_type": "markdown",
   "metadata": {},
   "source": [
    "## Map Area 地图选择"
   ]
  },
  {
   "cell_type": "markdown",
   "metadata": {},
   "source": [
    "Shenzhen, Guangdong, China.中国广东省深圳市\n",
    "·https://www.openstreetmap.org/relation/3464353#map=10/22.6330/114.1850\n",
    "·http://overpass-api.de/api/map?bbox=113.4874,22.2726,114.8827,22.9925"
   ]
  },
  {
   "cell_type": "markdown",
   "metadata": {},
   "source": [
    "## Overview 数据概况"
   ]
  },
  {
   "cell_type": "markdown",
   "metadata": {},
   "source": [
    "### Tags标签"
   ]
  },
  {
   "cell_type": "code",
   "execution_count": 38,
   "metadata": {
    "collapsed": false
   },
   "outputs": [
    {
     "name": "stdout",
     "output_type": "stream",
     "text": [
      "Tags:\n",
      "{'bounds': 1,\n",
      " 'member': 107125,\n",
      " 'meta': 1,\n",
      " 'nd': 1676361,\n",
      " 'node': 1433740,\n",
      " 'note': 1,\n",
      " 'osm': 1,\n",
      " 'relation': 5641,\n",
      " 'remark': 1,\n",
      " 'tag': 589363,\n",
      " 'way': 154979}\n"
     ]
    }
   ],
   "source": [
    "#迭代解析\n",
    "import xml.etree.cElementTree as ET\n",
    "import pprint\n",
    "\n",
    "f='/Users/apple/Downloads/shenzhen.osm'\n",
    "#查看所有标签\n",
    "tags = {}\n",
    "for ev,elem in ET.iterparse(f):\n",
    "    tag = elem.tag\n",
    "    if tag not in tags.keys():\n",
    "        tags[tag] = 1\n",
    "    else:\n",
    "        tags[tag]+=1\n",
    "print 'Tags:'\n",
    "pprint.pprint(tags)"
   ]
  },
  {
   "cell_type": "markdown",
   "metadata": {},
   "source": [
    "### Tag types标签类型"
   ]
  },
  {
   "cell_type": "code",
   "execution_count": 40,
   "metadata": {
    "collapsed": false
   },
   "outputs": [
    {
     "name": "stdout",
     "output_type": "stream",
     "text": [
      "{'lower': 436915, 'lower_colon': 144009, 'other': 8436, 'problemchars': 3}\n"
     ]
    }
   ],
   "source": [
    "import re\n",
    "lower = re.compile(r'^([a-z]|_)*$')\n",
    "lower_colon = re.compile(r'^([a-z]|_)*:([a-z]|_)*$')\n",
    "problemchars = re.compile(r'[=\\+/&<>;\\'\"\\?%#$@\\,\\. \\t\\r\\n]')\n",
    "\n",
    "\n",
    "def key_type(element, keys):\n",
    "    elem_key = 'other'\n",
    "    if element.tag == \"tag\":\n",
    "        k = element.get('k')\n",
    "        if lower.search(k):\n",
    "            elem_key = 'lower'\n",
    "        if lower_colon.search(k):\n",
    "            elem_key = 'lower_colon'\n",
    "        if problemchars.search(k):\n",
    "            elem_key = 'problemchars'\n",
    "\n",
    "        keys.setdefault(elem_key, 0)\n",
    "        keys[elem_key] += 1\n",
    "    return keys\n",
    "\n",
    "keys = {\"lower\": 0, \"lower_colon\": 0, \"problemchars\": 0, \"other\": 0}\n",
    "\n",
    "for _, element in ET.iterparse(f):\n",
    "    keys = key_type(element, keys)\n",
    "\n",
    "pprint.pprint(keys)\n",
    "\n"
   ]
  },
  {
   "cell_type": "markdown",
   "metadata": {},
   "source": [
    "### Contributors 贡献用户"
   ]
  },
  {
   "cell_type": "markdown",
   "metadata": {},
   "source": [
    "找出多少用户贡献过这个地图。"
   ]
  },
  {
   "cell_type": "code",
   "execution_count": 41,
   "metadata": {
    "collapsed": false
   },
   "outputs": [
    {
     "name": "stdout",
     "output_type": "stream",
     "text": [
      "1364 users contributed to the map data.\n"
     ]
    }
   ],
   "source": [
    "users=set()\n",
    "for _, element in ET.iterparse(f):\n",
    "    user_id=element.get('uid')\n",
    "    if user_id is not None:\n",
    "        users.add(user_id)\n",
    "\n",
    "print '{} users contributed to the map data.'.format(len(users))\n"
   ]
  },
  {
   "cell_type": "markdown",
   "metadata": {},
   "source": [
    "## Audit审查"
   ]
  },
  {
   "cell_type": "markdown",
   "metadata": {},
   "source": [
    "### Audit the street name审查街道名"
   ]
  },
  {
   "cell_type": "markdown",
   "metadata": {},
   "source": [
    "看看有啥奇奇怪怪的，超出预期的名字。"
   ]
  },
  {
   "cell_type": "code",
   "execution_count": 54,
   "metadata": {
    "collapsed": false
   },
   "outputs": [
    {
     "name": "stdout",
     "output_type": "stream",
     "text": [
      "Street types:\n",
      "{u'104\\u4e61\\u9053': set([u'104\\u4e61\\u9053']),\n",
      " u'106\\u4fa7': set([u'\\u5cad\\u5357\\u8def106\\u4fa7']),\n",
      " u'14\\u865f\\u65b0\\u6587\\u83ef\\u4e2d\\u5fc3\\u5546\\u5834\\u5730\\u4e0b21B\\u865f\\u92ea': set([u'\\u79d1\\u5b78\\u9928\\u905314\\u865f\\u65b0\\u6587\\u83ef\\u4e2d\\u5fc3\\u5546\\u5834\\u5730\\u4e0b21B\\u865f\\u92ea']),\n",
      " u'1\\u6a13': set([u'\\u5c6f\\u9580\\u5927\\u8208\\u6751\\u7b2c\\u4e8c\\u671f\\u5546\\u58341\\u6a13']),\n",
      " u'1\\u6a13115-120\\u865f\\u92ea': set([u'\\u65b0\\u6587\\u83ef\\u4e2d\\u5fc31\\u6a13115-120\\u865f\\u92ea']),\n",
      " u'1\\u6a13116\\u5e97': set([u'\\u5fb7\\u5b89\\u88577\\u865f \\u9ec3\\u57d4\\u82b1\\u57128\\u671f \\u9ec3\\u57d4\\u7f8e\\u98df\\u574a1\\u6a13116\\u5e97']),\n",
      " u'1\\u865f': set([u'\\u91d1\\u9e21\\u8def1\\u865f']),\n",
      " u'20\\u865f\\u822a\\u5929\\u57ce\\u9ad8\\u723e\\u592b\\u7403\\u5834': set([u'\\u8d64\\u9c72\\u89d2\\u9999\\u6e2f\\u570b\\u969b\\u6a5f\\u5834\\u822a\\u5929\\u57ce\\u6771\\u8def20\\u865f\\u822a\\u5929\\u57ce\\u9ad8\\u723e\\u592b\\u7403\\u5834']),\n",
      " u'220\\u865f': set([u'\\u632f\\u5b89\\u897f\\u8def220\\u865f']),\n",
      " '260': set(['260']),\n",
      " u'2\\u671f\\u8cfc\\u7269\\u5546\\u5834\\u5730\\u4e0b': set([u'\\u5c6f\\u9580\\u5927\\u8208\\u82b1\\u57122\\u671f\\u8cfc\\u7269\\u5546\\u5834\\u5730\\u4e0b']),\n",
      " '3': set(['Pier 3']),\n",
      " u'38-40\\u865f': set([u'\\u6f22\\u53e3\\u905338-40\\u865f']),\n",
      " u'3\\u671f\\u767e\\u5bf6\\u574a\\u5730\\u4e0bG27\\u865f\\u92ea': set([u'\\u9ec3\\u57d4\\u65b0\\u5929\\u57303\\u671f\\u767e\\u5bf6\\u574a\\u5730\\u4e0bG27\\u865f\\u92ea']),\n",
      " '4': set(['Lane 4']),\n",
      " u'42A\\u5730\\u6bb5': set([u'\\u7a57\\u79be\\u82d142A\\u5730\\u6bb5']),\n",
      " '518000': set(['1002 Huaqiang N Rd, HuaQiang Bei, Futian Qu, Shenzhen Shi, Guangdong Sheng, China, 518000']),\n",
      " u'522\\u865f\\u91d1\\u9f8d\\u5546\\u696d\\u5927\\u53a6\\u5730\\u4e0b': set([u'\\u4e5d\\u9f8d\\u5f4c\\u6566\\u9053 522\\u865f\\u91d1\\u9f8d\\u5546\\u696d\\u5927\\u53a6\\u5730\\u4e0b']),\n",
      " u'524\\u865f\\u50d1\\u6c5f\\u5927\\u5ec8\\u5730\\u8216': set([u'\\u5f4c\\u6566\\u9053 524\\u865f\\u50d1\\u6c5f\\u5927\\u5ec8\\u5730\\u8216']),\n",
      " u'599': set([u'\\u897f\\u6c99\\u8def Sai Sha Road No. 599']),\n",
      " u'6A\\u5730\\u4e0b': set([u'\\u5c16\\u6c99\\u5480\\u91d1\\u99ac\\u502b\\u90536A\\u5730\\u4e0b']),\n",
      " u'78A': set([u'\\u571f\\u74dc\\u7063\\u905378A']),\n",
      " u'7\\u9053': set([u'\\u9ad8\\u65b0\\u79d1\\u6280\\u5712\\u9ad8\\u65b0\\u53577\\u9053']),\n",
      " u'Au': set([u'\\u6c99\\u982d\\u89d2\\u516c\\u8def - \\u77f3\\u6d8c\\u51f9\\u6bb5 Sha Tau Kok Road - Shek Chung Au']),\n",
      " u'Av': set([u'\\u5742\\u96ea\\u5c97\\u5927\\u9053 B\\u01cenxu\\u011b G\\u01ceng Av']),\n",
      " u'Ave': set([u'\\u5317\\u73af\\u5927\\u9053 North Ring Ave']),\n",
      " u'A\\u533a': set([u'\\u798f\\u4e2d\\u8def\\u5e02\\u6c11\\u4e2d\\u5fc3A\\u533a']),\n",
      " 'BLVD': set(['Shennan BLVD']),\n",
      " u'Bay': set(['Castle Peak Road - Castle Peak Bay',\n",
      "              u'\\u9752\\u5c71\\u516c\\u8def - \\u9752\\u5c71\\u7063\\u6bb5 Castle Peak Road - Castle Peak Bay']),\n",
      " u'Bazaar': set([\"Jardine's Bazaar\", u\"\\u6e23\\u7538\\u8857 Jardine's Bazaar\"]),\n",
      " u'Branch': set([u'\\u864e\\u95e8\\u6e2f\\u652f\\u7ebf Humen Port Branch']),\n",
      " u'Broadway': set(['Broadway', u'\\u767e\\u8001\\u532f\\u8857 Broadway']),\n",
      " 'Chai': set(['230 Wan Chai Road, Wan Chai']),\n",
      " u'Chianti': set([u'\\u5c1a\\u5824 Chianti']),\n",
      " u'Chung': set(['Mai Wo Industrial Building, 90-98 Kwai Cheong Road, Kwai Chung',\n",
      "                u'\\u9752\\u5c71\\u516c\\u8def - \\u8475\\u6d8c\\u6bb5 Castle Peak Road - Kwai Chung']),\n",
      " 'Circuit\\\\': set(['Kwai Shing Circuit\\\\']),\n",
      " 'City': set(['Block C, Sunshine City']),\n",
      " 'Close': set(['Kai Chi Close', u'\\u7f6e\\u69ae\\u5f91 Chi Wing Close']),\n",
      " 'DaDao': set(['NanHai DaDao']),\n",
      " u'Dadao': set([u'\\u5357\\u5c71\\u5927\\u9053 Nanshan Dadao']),\n",
      " 'District': set(['Guanlan Longhua New District',\n",
      "                  'Xili Town, Nanshan                  District']),\n",
      " 'Estate': set(['Cheung Shan Estate', 'Shek Wai Kok Estate', 'Tai Wo Estate']),\n",
      " 'Fong': set(['Siu Cheung Fong']),\n",
      " 'Gardens': set(['Prosperous Gardens']),\n",
      " 'Glenealy': set(['Glenealy']),\n",
      " u'Heights': set([u'\\u5927\\u57d4\\u516c\\u8def \\u2014 \\u6c99\\u7530\\u5dba\\u6bb5 Tai Po Road \\u2014 Sha Tin Heights']),\n",
      " 'House': set(['Mody House']),\n",
      " 'Hui': set(['Castle Peak Road - San Hui']),\n",
      " 'Huizhou': set(['Tymphany Industrial Area Xin Lian Village, XinXu Town HuiYang District, Huizhou']),\n",
      " u'Kau': set(['Castle Peak Road - Ting Kau',\n",
      "              'Tai Po Road - Tai Po Kau',\n",
      "              u'\\u5927\\u57d4\\u516c\\u8def - \\u5927\\u57d4\\u6ed8\\u6bb5 Tai Po Road - Tai Po Kau',\n",
      "              u'\\u9752\\u5c71\\u516c\\u8def \\u2013 \\u6c40\\u4e5d\\u6bb5 Castle Peak Road - Ting Kau']),\n",
      " 'Kong': set(['88 Tai Kok Tsui Rd, Tai Kok Tsui, Hong Kong']),\n",
      " 'Kowloon': set(['503 Nathan Road, Yau Ma Tei, Kowloon',\n",
      "                 'Salisbury Road, Kowloon',\n",
      "                 'Shop 2, G/F., Arts Mansion, Nos. 46,48, 50,52,54,56,58 Arthur Street, Nos. 4 & 6 Man Ming Lane, Kowloon']),\n",
      " 'Lam': set(['Castle Peak Road - Tai Lam',\n",
      "             u'\\u200e\\u9752\\u5c71\\u516c\\u8def\\u2013\\u5927\\u6b16\\u6bb5 Castle Peak Road - Tai Lam']),\n",
      " 'Leng': set(['Tai Kei Leng']),\n",
      " 'Ln': set(['Yan Wo Ln']),\n",
      " 'Long': set(['Castle Peak Road - Yuen Long',\n",
      "              u'\\u9752\\u5c71\\u516c\\u8def - \\u5143\\u6717\\u6bb5 Castle Peak Road - Yuen Long']),\n",
      " 'Lu': set(['Hongbao Lu',\n",
      "            'Hua Fa Bei Lu',\n",
      "            'Shenyan Lu',\n",
      "            'XiHuan Lu',\n",
      "            u'\\u6843\\u56ed\\u8def Taoyuan Lu',\n",
      "            u'\\u6c99\\u6cb3\\u897f\\u8def ShaHe Xi Lu']),\n",
      " 'Mall': set(['Mount Sterling Mall']),\n",
      " u'OT215K\\u865f\\u92ea': set([u'\\u6d77\\u904b\\u5927\\u5ec8\\u4e8c\\u968eOT215K\\u865f\\u92ea']),\n",
      " 'One': set(['Siena Drive One']),\n",
      " 'Park': set(['Hong Kong Park']),\n",
      " 'Plaza': set(['Block A, DB Plaza']),\n",
      " u'Quadrant': set([u'\\u5f8b\\u502b\\u8857 Rutland Quadrant']),\n",
      " 'Queensway': set(['Queensway', u'\\u91d1\\u9418\\u9053 Queensway']),\n",
      " u'Rd': set(['1 Stewart Rd',\n",
      "             '24 Tin Kwong Rd',\n",
      "             'Cheong Wan Rd',\n",
      "             'Gong ye 7th Rd',\n",
      "             'Gongye 7th Rd',\n",
      "             'Guihua Rd',\n",
      "             'Hai yue Rd',\n",
      "             'Houhaibin Rd',\n",
      "             'Lize Rd',\n",
      "             'Taikoo Shing Rd',\n",
      "             'Wanghai Rd',\n",
      "             'Zhenghua Rd',\n",
      "             u'\\u4e1c\\u95e8\\u4e2d\\u8def Dongmen Middle Rd',\n",
      "             u'\\u4e2d\\u5174\\u8def Zhongxing Rd',\n",
      "             u'\\u4e2d\\u5c71\\u56ed\\u8def Zhongshanyuan Rd',\n",
      "             u'\\u52b1\\u8018\\u8def Liyun Rd',\n",
      "             u'\\u5e03\\u9f99\\u8def Bulong Rd',\n",
      "             u'\\u5ef6\\u82b3\\u8def Yanfang Rd',\n",
      "             u'\\u6587\\u9526\\u4e2d\\u8def Wenjin Middle Rd',\n",
      "             u'\\u65b0\\u79c0\\u8def Xinxiu Rd',\n",
      "             u'\\u666f\\u7530\\u5317\\u8857 Jingtian N Rd',\n",
      "             u'\\u666f\\u7530\\u897f\\u8def Jingtian W Rd',\n",
      "             u'\\u666f\\u7530\\u8def Jingtian Rd',\n",
      "             u'\\u6b23\\u56ed\\u8def Xinyuan Rd',\n",
      "             u'\\u6bd4\\u4e9a\\u8fea\\u8def Biyadi Rd',\n",
      "             u'\\u6c99\\u6e7e\\u8def Shawan Rd',\n",
      "             u'\\u6e56\\u8d1d\\u8def Hubei Rd',\n",
      "             u'\\u76d0\\u7530\\u8def Yantian Rd',\n",
      "             u'\\u7ca4\\u5174\\u4e09\\u9053 Yuexing 3rd Rd',\n",
      "             u'\\u7ecf\\u4e8c\\u8def Jinger Rd',\n",
      "             u'\\u7f57\\u82b3\\u8def Luofang Rd',\n",
      "             u'\\u83b2\\u82b1\\u8def Lianhua Rd',\n",
      "             u'\\u91d1\\u98ce\\u8def J\\u012bnf\\u0113ng Rd',\n",
      "             u'\\u9999\\u6885\\u8def Xiangmei Rd']),\n",
      " 'Reservoir': set(['Family Walk, Ho Pui Reservoir']),\n",
      " 'Rise': set([\"King's Park Rise\",\n",
      "              u\"\\u4eac\\u58eb\\u67cf\\u9053 King's Park Rise\"]),\n",
      " u'Row': set(['Minden Row', u'\\u7dec\\u7538\\u81fa Minden Row']),\n",
      " 'S.': set(['Gaoxin S.']),\n",
      " 'Shan': set(['Castle Peak Road - Ping Shan']),\n",
      " 'Shatin': set(['No. 51, Tsuen Nam Road, Tai Wai, Shatin']),\n",
      " 'Shui': set(['Tai Po Road - Ma Liu Shui']),\n",
      " 'Smithfield': set(['Smithfield']),\n",
      " 'Soho': set(['Shelley Street, Soho']),\n",
      " 'St': set(['Fu Shin St',\n",
      "            'Hei Yuen St',\n",
      "            'Yan Hing St',\n",
      "            \"d'Aguilar St\",\n",
      "            u'\\u4ed9\\u6e56\\u8def Xianhu St',\n",
      "            u'\\u666f\\u7530\\u4e1c\\u4e00\\u8857 Jingtian E 1st St',\n",
      "            u'\\u666f\\u7530\\u5317\\u4e00\\u8857 Jingtian North 1st St',\n",
      "            u'\\u666f\\u7530\\u5317\\u4e03\\u8857 Jingtian North 7th St',\n",
      "            u'\\u666f\\u7530\\u5317\\u4e09\\u8857 Jingtian North 3rd St',\n",
      "            u'\\u666f\\u7530\\u5317\\u4e8c\\u8857 Jingtian North 2nd St',\n",
      "            u'\\u666f\\u7530\\u5317\\u4e94\\u8857 Jingtian North 5th St',\n",
      "            u'\\u666f\\u7530\\u5317\\u516d\\u8857 Jingtian North 6th St']),\n",
      " 'St.': set(['Finance St.']),\n",
      " 'Station': set(['East Tsim Sha Tsui Station']),\n",
      " u'Strand': set(['Bonham Strand', u'\\u6587\\u54b8\\u6771\\u8857 Bonham Strand']),\n",
      " u'Street\\u200e': set([u'Wang Lung Street\\u200e']),\n",
      " 'Tangjia': set(['Jin Tang road, Tangjia']),\n",
      " 'Tau': set(['Castle Peak Road - Tsing Lung Tau',\n",
      "             u'\\u9752\\u5c71\\u516c\\u8def - \\u6d32\\u982d\\u6bb5 Castle Peak Road - Chau Tau',\n",
      "             u'\\u9752\\u5c71\\u516c\\u8def \\u2013 \\u9752\\u9f8d\\u982d\\u6bb5 Castle Peak Road - Tsing Lung Tau']),\n",
      " 'Tin': set(['Tai Po Road - Sha Tin',\n",
      "             u'\\u9752\\u5c71\\u516c\\u8def - \\u65b0\\u7530\\u6bb5 Castle Peak Road - San Tin']),\n",
      " 'Tong': set(['Ko Tong']),\n",
      " 'Town': set(['New Praya, Kennedy Town', 'Praya, Kennedy Town']),\n",
      " 'Tsai': set(['Tai Po Road - Yuen Chau Tsai']),\n",
      " u'Tseng': set(['Castle Peak Road - Sham Tseng',\n",
      "                u'\\u9752\\u5c71\\u516c\\u8def \\u2013 \\u6df1\\u4e95\\u6bb5 Castle Peak Road - Sham Tseng']),\n",
      " 'Tsuen': set(['Wong Chuk Shan San Tsuen']),\n",
      " u'Tung': set([u'\\u9752\\u5c71\\u516c\\u8def - \\u53e4\\u6d1e\\u6bb5 Castle Peak Road - Kwu Tung']),\n",
      " 'Twisk': set(['108 Route Twisk', 'Route Twisk']),\n",
      " 'Two': set(['Siena Drive Two']),\n",
      " 'Village': set(['Tin Liu New Village']),\n",
      " 'Wai': set(['Kat Hing Wai']),\n",
      " 'Wan': set(['Castle Peak Road - Tsuen Wan',\n",
      "             'Cattle Depot Artist Village, 63 Ma Tau Kok Road, To Kwa Wan',\n",
      "             u'\\u9752\\u5c71\\u516c\\u8def - \\u8343\\u7063\\u6bb5 Castle Peak Road - Tsuen Wan']),\n",
      " 'Wo': set(['Tai Po Road - Tai Wo']),\n",
      " 'kamtin': set(['kamtin']),\n",
      " u'road': set([u'\\u6c11\\u7530\\u8def Mintian road',\n",
      "               u'\\u798f\\u534e\\u8def Fuhua road']),\n",
      " 'street': set(['mee lun street\\n']),\n",
      " 'zi': set(['Tai zi'])}\n"
     ]
    }
   ],
   "source": [
    "from collections import defaultdict\n",
    "street_type_re = re.compile(r'\\b\\S+\\.?$', re.IGNORECASE)\n",
    "\n",
    "expected = [\"Street\", \"Avenue\", \"Boulevard\", \"Drive\", \"Court\", \"Place\", \"Square\", \"Lane\", \"Road\",\n",
    "            \"Trail\", \"Parkway\", \"Commons\",\"Path\",\"Circuit\",\"Terrace\",\"Crescent\",\"Highway\",\n",
    "            \"West\",\"East\",\"North\",\"South\",\"Central\"]\n",
    "\n",
    "def audit_street_type(street_types, street_name):\n",
    "    m = street_type_re.search(street_name)\n",
    "    if m:\n",
    "        street_type = m.group()\n",
    "        if street_type not in expected:\n",
    "            street_types[street_type].add(street_name)\n",
    "\n",
    "\n",
    "def is_street_name(elem):\n",
    "    return (elem.attrib['k'] == \"addr:street\")\n",
    "\n",
    "\n",
    "osm_file = open(f, \"r\")\n",
    "street_types = defaultdict(set)\n",
    "for event, elem in ET.iterparse(osm_file, events=(\"start\",)):\n",
    "    if elem.tag == \"node\" or elem.tag == \"way\":\n",
    "        for tag in elem.iter(\"tag\"):\n",
    "            if is_street_name(tag):\n",
    "                audit_street_type(street_types, tag.attrib['v'])\n",
    "\n",
    "print \"Street types:\"\n",
    "pprint.pprint(dict(street_types))\n"
   ]
  },
  {
   "cell_type": "markdown",
   "metadata": {},
   "source": [
    "观察得，很多简写，Rd-Road, St-Street,Av-Avenue;还有一些用汉语拼音代替英语如Dadao-Avenue,Lu-Road."
   ]
  },
  {
   "cell_type": "markdown",
   "metadata": {},
   "source": [
    "## Fix完善街道名"
   ]
  },
  {
   "cell_type": "code",
   "execution_count": 56,
   "metadata": {
    "collapsed": false
   },
   "outputs": [
    {
     "name": "stdout",
     "output_type": "stream",
     "text": [
      "金风路 Jīnfēng Rd => 金风路 Jīnfēng Road\n",
      "景田路 Jingtian Rd => 景田路 Jingtian Road\n",
      "比亚迪路 Biyadi Rd => 比亚迪路 Biyadi Road\n",
      "Guihua Rd => Guihua Road\n",
      "罗芳路 Luofang Rd => 罗芳路 Luofang Road\n",
      "延芳路 Yanfang Rd => 延芳路 Yanfang Road\n",
      "景田北街 Jingtian N Rd => 景田北街 Jingtian N Road\n",
      "经二路 Jinger Rd => 经二路 Jinger Road\n",
      "Wanghai Rd => Wanghai Road\n",
      "Gongye 7th Rd => Gongye 7th Road\n",
      "Cheong Wan Rd => Cheong Wan Road\n",
      "新秀路 Xinxiu Rd => 新秀路 Xinxiu Road\n",
      "湖贝路 Hubei Rd => 湖贝路 Hubei Road\n",
      "24 Tin Kwong Rd => 24 Tin Kwong Road\n",
      "莲花路 Lianhua Rd => 莲花路 Lianhua Road\n",
      "1 Stewart Rd => 1 Stewart Road\n",
      "香梅路 Xiangmei Rd => 香梅路 Xiangmei Road\n",
      "布龙路 Bulong Rd => 布龙路 Bulong Road\n",
      "中山园路 Zhongshanyuan Rd => 中山园路 Zhongshanyuan Road\n",
      "Zhenghua Rd => Zhenghua Road\n",
      "中兴路 Zhongxing Rd => 中兴路 Zhongxing Road\n",
      "Taikoo Shing Rd => Taikoo Shing Road\n",
      "景田西路 Jingtian W Rd => 景田西路 Jingtian W Road\n",
      "励耘路 Liyun Rd => 励耘路 Liyun Road\n",
      "Hai yue Rd => Hai yue Road\n",
      "粤兴三道 Yuexing 3rd Rd => 粤兴三道 Yuexing 3rd Road\n",
      "Gong ye 7th Rd => Gong ye 7th Road\n",
      "Houhaibin Rd => Houhaibin Road\n",
      "东门中路 Dongmen Middle Rd => 东门中路 Dongmen Middle Road\n",
      "文锦中路 Wenjin Middle Rd => 文锦中路 Wenjin Middle Road\n",
      "Lize Rd => Lize Road\n",
      "沙湾路 Shawan Rd => 沙湾路 Shawan Road\n",
      "盐田路 Yantian Rd => 盐田路 Yantian Road\n",
      "欣园路 Xinyuan Rd => 欣园路 Xinyuan Road\n",
      "北环大道 North Ring Ave => 北环大道 North Ring Avenue\n",
      "Finance St. => Finance Street\n",
      "Hei Yuen St => Hei Yuen Street\n",
      "景田北五街 Jingtian North 5th St => 景田北五街 Jingtian North 5th Street\n",
      "Yan Hing St => Yan Hing Street\n",
      "景田东一街 Jingtian E 1st St => 景田东一街 Jingtian E 1st Street\n",
      "景田北三街 Jingtian North 3rd St => 景田北三街 Jingtian North 3rd Street\n",
      "仙湖路 Xianhu St => 仙湖路 Xianhu Street\n",
      "d'Aguilar St => d'Aguilar Street\n",
      "景田北一街 Jingtian North 1st St => 景田北一街 Jingtian North 1st Street\n",
      "景田北六街 Jingtian North 6th St => 景田北六街 Jingtian North 6th Street\n",
      "景田北七街 Jingtian North 7th St => 景田北七街 Jingtian North 7th Street\n",
      "Fu Shin St => Fu Shin Street\n",
      "景田北二街 Jingtian North 2nd St => 景田北二街 Jingtian North 2nd Street\n",
      "XiHuan Lu => XiHuan Road\n",
      "Hongbao Lu => Hongbao Road\n",
      "Hua Fa Bei Lu => Hua Fa Bei Road\n",
      "桃园路 Taoyuan Lu => 桃园路 Taoyuan Road\n",
      "沙河西路 ShaHe Xi Lu => 沙河西路 ShaHe Xi Road\n",
      "Shenyan Lu => Shenyan Road\n",
      "南山大道 Nanshan Dadao => 南山大道 Nanshan Avenue\n",
      "坂雪岗大道 Bǎnxuě Gǎng Av => 坂雪岗大道 Bǎnxuě Gǎng Avenue\n"
     ]
    }
   ],
   "source": [
    "mapping = {\n",
    "    \"Ave\": \"Avenue\",\n",
    "    \"St\": \"Street\",\n",
    "    \"St.\": \"Street\",\n",
    "    \"Rd.\": \"Road\",\n",
    "    \"Rd\":\"Road\",\n",
    "    \"Dadao\":\"Avenue\",\n",
    "    \"Lu\":\"Road\",\n",
    "    \"Av\":\"Avenue\"\n",
    "}\n",
    "def update_name(name, mapping):\n",
    "    m = street_type_re.search(name)\n",
    "    street_type = m.group()\n",
    "    if street_type not in expected: \n",
    "        if street_type in mapping.keys():  #not needed\n",
    "            new_street_type = mapping[street_type]\n",
    "            better_name = name.replace(street_type, new_street_type)\n",
    "            print name, \"=>\", better_name\n",
    "    \n",
    "    return name\n",
    "\n",
    "for st_type, ways in street_types.iteritems():\n",
    "    for name in ways:\n",
    "        better_name = update_name(name, mapping)\n",
    "        \n",
    "        \n",
    "\n"
   ]
  },
  {
   "cell_type": "markdown",
   "metadata": {},
   "source": [
    "## Preparing for the database为数据库做准备"
   ]
  },
  {
   "cell_type": "markdown",
   "metadata": {},
   "source": [
    "### XML -> CSV"
   ]
  },
  {
   "cell_type": "code",
   "execution_count": 71,
   "metadata": {
    "collapsed": false
   },
   "outputs": [],
   "source": [
    "import csv\n",
    "import codecs\n",
    "import pprint\n",
    "import re\n",
    "import xml.etree.cElementTree as ET\n",
    "\n",
    "NODES_PATH = \"nodes.csv\"\n",
    "NODE_TAGS_PATH = \"nodes_tags.csv\"\n",
    "WAYS_PATH = \"ways.csv\"\n",
    "WAY_NODES_PATH = \"ways_nodes.csv\"\n",
    "WAY_TAGS_PATH = \"ways_tags.csv\"\n",
    "\n",
    "LOWER_COLON = re.compile(r'^([a-z]|_)+:([a-z]|_)+')\n",
    "PROBLEMCHARS = re.compile(r'[=\\+/&<>;\\'\"\\?%#$@\\,\\. \\t\\r\\n]')\n",
    "\n",
    "\n",
    "\n",
    "# Make sure the fields order in the csvs matches the column order in the sql table schema\n",
    "NODE_FIELDS = ['id', 'lat', 'lon', 'user', 'uid', 'version', 'changeset', 'timestamp']\n",
    "NODE_TAGS_FIELDS = ['id', 'key', 'value', 'type']\n",
    "WAY_FIELDS = ['id', 'user', 'uid', 'version', 'changeset', 'timestamp']\n",
    "WAY_TAGS_FIELDS = ['id', 'key', 'value', 'type']\n",
    "WAY_NODES_FIELDS = ['id', 'node_id', 'position']\n",
    "\n",
    "\n",
    "def shape_element(element, node_attr_fields=NODE_FIELDS, way_attr_fields=WAY_FIELDS,\n",
    "                  problem_chars=PROBLEMCHARS, default_tag_type='regular'):\n",
    "    \"\"\"Clean and shape node or way XML element to Python dict\"\"\"\n",
    "\n",
    "    node_attribs = {}\n",
    "    way_attribs = {}\n",
    "    way_nodes = []\n",
    "    tags = []  # Handle secondary tags the same way for both node and way elements\n",
    "\n",
    "    if element.tag == 'node':\n",
    "        for node in NODE_FIELDS:\n",
    "            node_attribs[node] = element.attrib[node]\n",
    "        for child in element:\n",
    "            tag = {}\n",
    "            if PROBLEMCHARS.search(child.attrib[\"k\"]):\n",
    "                continue\n",
    "        \n",
    "            elif LOWER_COLON.search(child.attrib[\"k\"]):\n",
    "                tag_type = child.attrib[\"k\"].split(':',1)[0]\n",
    "                tag_key = child.attrib[\"k\"].split(':',1)[1]\n",
    "                tag[\"key\"] = tag_key\n",
    "                if tag_type:\n",
    "                    tag[\"type\"] = tag_type\n",
    "                else:\n",
    "                    tag[\"type\"] = 'regular'\n",
    "            \n",
    "                tag[\"id\"] = element.attrib[\"id\"]\n",
    "                tag[\"value\"] = child.attrib[\"v\"]\n",
    "            else:\n",
    "                tag[\"value\"] = child.attrib[\"v\"]\n",
    "                tag[\"key\"] = child.attrib[\"k\"]\n",
    "                tag[\"type\"] = \"regular\"\n",
    "                tag[\"id\"] = element.attrib[\"id\"]\n",
    "            if tag:\n",
    "                tags.append(tag)\n",
    "        return {'node': node_attribs, 'node_tags': tags}\n",
    "    elif element.tag == 'way':\n",
    "        for way in WAY_FIELDS:\n",
    "            way_attribs[way] = element.attrib[way]\n",
    "        for child in element:\n",
    "            nd = {}\n",
    "            tag = {}\n",
    "            if child.tag == 'tag':\n",
    "                if PROBLEMCHARS.search(child.attrib[\"k\"]):\n",
    "                    continue\n",
    "                elif LOWER_COLON.search(child.attrib[\"k\"]):\n",
    "                    tag_type = child.attrib[\"k\"].split(':',1)[0]\n",
    "                    tag_key = child.attrib[\"k\"].split(':',1)[1]\n",
    "                    tag[\"key\"] = tag_key\n",
    "                    if tag_type:\n",
    "                        tag[\"type\"] = tag_type\n",
    "                    else:\n",
    "                        tag[\"type\"] = 'regular'\n",
    "                    tag[\"id\"] = element.attrib[\"id\"]\n",
    "                    tag[\"value\"] = child.attrib[\"v\"]\n",
    "    \n",
    "                else:\n",
    "                    tag[\"value\"] = child.attrib[\"v\"]\n",
    "                    tag[\"key\"] = child.attrib[\"k\"]\n",
    "                    tag[\"type\"] = \"regular\"\n",
    "                    tag[\"id\"] = element.attrib[\"id\"]\n",
    "                if tag:\n",
    "                    tags.append(tag)\n",
    "                    \n",
    "            elif child.tag == 'nd':\n",
    "                nd['id'] = element.attrib[\"id\"]\n",
    "                nd['node_id'] = child.attrib[\"ref\"]\n",
    "                nd['position'] = len(way_nodes)\n",
    "            \n",
    "                if nd:\n",
    "                    way_nodes.append(nd)\n",
    "            else:\n",
    "                continue\n",
    "        return {'way': way_attribs, 'way_nodes': way_nodes, 'way_tags': tags}\n",
    "# ================================================== #\n",
    "#               Helper Functions                     #\n",
    "# ================================================== #\n",
    "def get_element(f, tags=('node', 'way', 'relation')):\n",
    "    \"\"\"Yield element if it is the right type of tag\"\"\"\n",
    "\n",
    "    context = ET.iterparse(f, events=('start', 'end'))\n",
    "    _, root = next(context)\n",
    "    for event, elem in context:\n",
    "        if event == 'end' and elem.tag in tags:\n",
    "            yield elem\n",
    "            root.clear()\n",
    "\n",
    "\n",
    "\n",
    "class UnicodeDictWriter(csv.DictWriter, object):\n",
    "    \"\"\"Extend csv.DictWriter to handle Unicode input\"\"\"\n",
    "\n",
    "    def writerow(self, row):\n",
    "        super(UnicodeDictWriter, self).writerow({\n",
    "            k: (v.encode('utf-8') if isinstance(v, unicode) else v) for k, v in row.iteritems()\n",
    "        })\n",
    "\n",
    "    def writerows(self, rows):\n",
    "        for row in rows:\n",
    "            self.writerow(row)\n",
    "\n",
    "\n",
    "# ================================================== #\n",
    "#               Main Function                        #\n",
    "# ================================================== #\n",
    "def process_map(file_in, validate):\n",
    "    \"\"\"Iteratively process each XML element and write to csv(s)\"\"\"\n",
    "\n",
    "    with codecs.open(NODES_PATH, 'w') as nodes_file, \\\n",
    "         codecs.open(NODE_TAGS_PATH, 'w') as nodes_tags_file, \\\n",
    "         codecs.open(WAYS_PATH, 'w') as ways_file, \\\n",
    "         codecs.open(WAY_NODES_PATH, 'w') as way_nodes_file, \\\n",
    "         codecs.open(WAY_TAGS_PATH, 'w') as way_tags_file:\n",
    "\n",
    "        nodes_writer = UnicodeDictWriter(nodes_file, NODE_FIELDS)\n",
    "        node_tags_writer = UnicodeDictWriter(nodes_tags_file, NODE_TAGS_FIELDS)\n",
    "        ways_writer = UnicodeDictWriter(ways_file, WAY_FIELDS)\n",
    "        way_nodes_writer = UnicodeDictWriter(way_nodes_file, WAY_NODES_FIELDS)\n",
    "        way_tags_writer = UnicodeDictWriter(way_tags_file, WAY_TAGS_FIELDS)\n",
    "\n",
    "        nodes_writer.writeheader()\n",
    "        node_tags_writer.writeheader()\n",
    "        ways_writer.writeheader()\n",
    "        way_nodes_writer.writeheader()\n",
    "        way_tags_writer.writeheader()\n",
    "\n",
    "\n",
    "        for element in get_element(file_in, tags=('node', 'way')):\n",
    "            el = shape_element(element)\n",
    "            if el:\n",
    "                if validate is True:\n",
    "                    validate_element(el, validator)\n",
    "\n",
    "                if element.tag == 'node':\n",
    "                    nodes_writer.writerow(el['node'])\n",
    "                    node_tags_writer.writerows(el['node_tags'])\n",
    "                elif element.tag == 'way':\n",
    "                    ways_writer.writerow(el['way'])\n",
    "                    way_nodes_writer.writerows(el['way_nodes'])\n",
    "                    way_tags_writer.writerows(el['way_tags'])\n",
    "\n",
    "\n",
    "\n",
    "process_map(f, validate=False)"
   ]
  },
  {
   "cell_type": "markdown",
   "metadata": {},
   "source": [
    "### Import csv to Database导入"
   ]
  },
  {
   "cell_type": "code",
   "execution_count": 92,
   "metadata": {
    "collapsed": false
   },
   "outputs": [],
   "source": [
    "import pandas, sqlite3\n",
    "\n",
    "#连接\n",
    "con = sqlite3.connect(\"OpenStreetMap.db\")\n",
    "con.text_factory = str\n",
    "def import_csv(name):\n",
    "    df = pandas.read_csv(name+'.csv')\n",
    "    df.to_sql(name, con, if_exists='replace', index=False)\n",
    "import_csv('nodes')\n",
    "import_csv('nodes_tags')\n",
    "import_csv('ways')\n",
    "import_csv('ways_tags')\n",
    "import_csv('ways_nodes')\n",
    "\n",
    "#保存\n",
    "con.commit()"
   ]
  },
  {
   "cell_type": "markdown",
   "metadata": {},
   "source": [
    "## Exploring the Database探索数据库"
   ]
  },
  {
   "cell_type": "code",
   "execution_count": 100,
   "metadata": {
    "collapsed": false
   },
   "outputs": [],
   "source": [
    "def query(SQL):\n",
    "    '''in:SQL query expression\n",
    "    Return the query results '''\n",
    "    c=con.cursor()\n",
    "    c.execute(SQL)\n",
    "    rows=c.fetchall()\n",
    "    pprint.pprint(rows)"
   ]
  },
  {
   "cell_type": "markdown",
   "metadata": {},
   "source": [
    "### Number of nodes 节点数"
   ]
  },
  {
   "cell_type": "code",
   "execution_count": 98,
   "metadata": {
    "collapsed": false
   },
   "outputs": [
    {
     "name": "stdout",
     "output_type": "stream",
     "text": [
      "[(1433740,)]\n"
     ]
    }
   ],
   "source": [
    "query('SELECT COUNT(*) FROM nodes')"
   ]
  },
  {
   "cell_type": "markdown",
   "metadata": {},
   "source": [
    "### Number of ways 道路数"
   ]
  },
  {
   "cell_type": "code",
   "execution_count": 99,
   "metadata": {
    "collapsed": false
   },
   "outputs": [
    {
     "name": "stdout",
     "output_type": "stream",
     "text": [
      "[(154979,)]\n"
     ]
    }
   ],
   "source": [
    "query('SELECT COUNT(*) FROM ways')"
   ]
  },
  {
   "cell_type": "markdown",
   "metadata": {},
   "source": [
    "### Top 10 Contributing Users 贡献前十用户"
   ]
  },
  {
   "cell_type": "code",
   "execution_count": 101,
   "metadata": {
    "collapsed": false
   },
   "outputs": [
    {
     "name": "stdout",
     "output_type": "stream",
     "text": [
      "[('hlaw', 460777),\n",
      " ('MarsmanRom', 240643),\n",
      " ('KX675', 68265),\n",
      " ('Popolon', 38872),\n",
      " ('Philip C', 37302),\n",
      " ('jc86035', 36863),\n",
      " ('HelioFelix', 33743),\n",
      " ('katpatuka', 32413),\n",
      " ('R17466', 30228),\n",
      " ('bTonyB', 28525)]\n"
     ]
    }
   ],
   "source": [
    "query(\"SELECT e.user, COUNT(*) as num \\\n",
    "           FROM (SELECT user FROM nodes UNION ALL SELECT user FROM ways) e \\\n",
    "           GROUP BY e.user \\\n",
    "           ORDER BY num DESC \\\n",
    "           LIMIT 10;\")"
   ]
  },
  {
   "cell_type": "markdown",
   "metadata": {},
   "source": [
    "### Biggest Religion最大宗教"
   ]
  },
  {
   "cell_type": "code",
   "execution_count": 102,
   "metadata": {
    "collapsed": false
   },
   "outputs": [
    {
     "name": "stdout",
     "output_type": "stream",
     "text": [
      "[('christian', 51)]\n"
     ]
    }
   ],
   "source": [
    "query(\"SELECT nodes_tags.value, COUNT(*) as num \\\n",
    "           FROM nodes_tags \\\n",
    "             JOIN (SELECT DISTINCT(id) FROM nodes_tags WHERE value='place_of_worship') i \\\n",
    "             ON nodes_tags.id=i.id \\\n",
    "           WHERE nodes_tags.key='religion' \\\n",
    "           GROUP BY nodes_tags.value \\\n",
    "           ORDER BY num DESC \\\n",
    "           LIMIT 1;\")"
   ]
  },
  {
   "cell_type": "markdown",
   "metadata": {},
   "source": [
    "妈呀，太惊讶了。咋会是基督教呢？"
   ]
  },
  {
   "cell_type": "markdown",
   "metadata": {},
   "source": [
    "### Top 10 appearing amenities出现最多的设施"
   ]
  },
  {
   "cell_type": "code",
   "execution_count": 104,
   "metadata": {
    "collapsed": false
   },
   "outputs": [
    {
     "name": "stdout",
     "output_type": "stream",
     "text": [
      "[('toilets', 904),\n",
      " ('restaurant', 759),\n",
      " ('shelter', 530),\n",
      " ('post_box', 512),\n",
      " ('parking', 453),\n",
      " ('bank', 401),\n",
      " ('bus_station', 344),\n",
      " ('fast_food', 245),\n",
      " ('taxi', 216),\n",
      " ('cafe', 183),\n",
      " ('bicycle_parking', 174),\n",
      " ('fuel', 174),\n",
      " ('place_of_worship', 133),\n",
      " ('post_office', 128),\n",
      " ('bench', 115),\n",
      " ('bbq', 87),\n",
      " ('recycling', 75),\n",
      " ('drinking_water', 72),\n",
      " ('grave_yard', 71),\n",
      " ('atm', 69)]\n"
     ]
    }
   ],
   "source": [
    "query(\"SELECT value, COUNT(*) as num \\\n",
    "            FROM nodes_tags \\\n",
    "           WHERE key='amenity' \\\n",
    "           GROUP BY value \\\n",
    "           ORDER BY num DESC \\\n",
    "           LIMIT 20;\")"
   ]
  },
  {
   "cell_type": "markdown",
   "metadata": {},
   "source": [
    "卫生间最多……说明深圳现代化发展得挺好。"
   ]
  }
 ],
 "metadata": {
  "anaconda-cloud": {},
  "kernelspec": {
   "display_name": "Python [Root]",
   "language": "python",
   "name": "Python [Root]"
  },
  "language_info": {
   "codemirror_mode": {
    "name": "ipython",
    "version": 2
   },
   "file_extension": ".py",
   "mimetype": "text/x-python",
   "name": "python",
   "nbconvert_exporter": "python",
   "pygments_lexer": "ipython2",
   "version": "2.7.12"
  }
 },
 "nbformat": 4,
 "nbformat_minor": 0
}
