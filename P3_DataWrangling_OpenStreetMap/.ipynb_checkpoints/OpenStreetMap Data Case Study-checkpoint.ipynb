{
 "cells": [
  {
   "cell_type": "markdown",
   "metadata": {
    "collapsed": true
   },
   "source": [
    "# OpenStreetMap Data Case Study OpenStreetMap数据案例"
   ]
  },
  {
   "cell_type": "markdown",
   "metadata": {},
   "source": [
    "## Map Area 地图选择"
   ]
  },
  {
   "cell_type": "markdown",
   "metadata": {},
   "source": [
    "Shenzhen, Guangdong, China.中国广东省深圳市\n",
    "·https://www.openstreetmap.org/relation/3464353#map=10/22.6330/114.1850\n",
    "·http://overpass-api.de/api/map?bbox=113.4874,22.2726,114.8827,22.9925"
   ]
  },
  {
   "cell_type": "markdown",
   "metadata": {},
   "source": [
    "## Overview 数据概况"
   ]
  },
  {
   "cell_type": "code",
   "execution_count": null,
   "metadata": {
    "collapsed": true
   },
   "outputs": [],
   "source": [
    "#迭代解析\n"
   ]
  }
 ],
 "metadata": {
  "anaconda-cloud": {},
  "kernelspec": {
   "display_name": "Python [Root]",
   "language": "python",
   "name": "Python [Root]"
  },
  "language_info": {
   "codemirror_mode": {
    "name": "ipython",
    "version": 2
   },
   "file_extension": ".py",
   "mimetype": "text/x-python",
   "name": "python",
   "nbconvert_exporter": "python",
   "pygments_lexer": "ipython2",
   "version": "2.7.12"
  }
 },
 "nbformat": 4,
 "nbformat_minor": 0
}
